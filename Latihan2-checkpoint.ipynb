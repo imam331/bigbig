{
 "cells": [
  {
   "cell_type": "code",
   "execution_count": 1,
   "id": "894566e5-cea4-4f93-a93f-e98656e0cba7",
   "metadata": {},
   "outputs": [
    {
     "name": "stdin",
     "output_type": "stream",
     "text": [
      "Masukkan bilangan pertama:  10\n",
      "Masukkan bilangan kedua:  20\n",
      "Masukkan bilangan ketiga:  30\n"
     ]
    },
    {
     "name": "stdout",
     "output_type": "stream",
     "text": [
      "Rata-rata dari ketiga bilangan tersebut adalah: 20.0\n"
     ]
    }
   ],
   "source": [
    "# Masukkan tiga bilangan bulat sembarang\n",
    "bilangan1 = int(input(\"Masukkan bilangan pertama: \"))\n",
    "bilangan2 = int(input(\"Masukkan bilangan kedua: \"))\n",
    "bilangan3 = int(input(\"Masukkan bilangan ketiga: \"))\n",
    "\n",
    "# Hitung rata-ratanya\n",
    "rata_rata = (bilangan1 + bilangan2 + bilangan3) / 3\n",
    "\n",
    "# Tampilkan hasil\n",
    "print(\"Rata-rata dari ketiga bilangan tersebut adalah:\", rata_rata)\n"
   ]
  },
  {
   "cell_type": "code",
   "execution_count": 2,
   "id": "8603b0c2-984e-484e-98c7-22f6e2233b89",
   "metadata": {},
   "outputs": [
    {
     "name": "stdin",
     "output_type": "stream",
     "text": [
      "Masukkan nilai x:  5\n"
     ]
    },
    {
     "name": "stdout",
     "output_type": "stream",
     "text": [
      "Nilai fungsi f(x) adalah: 263.0\n"
     ]
    }
   ],
   "source": [
    "def hitung_fungsi(x):\n",
    "    return 2*x**3 + 2*x + 15/x\n",
    "\n",
    "# Masukkan nilai x\n",
    "x = int(input(\"Masukkan nilai x: \"))\n",
    "\n",
    "# Hitung nilai fungsi f(x)\n",
    "nilai_fungsi = hitung_fungsi(x)\n",
    "\n",
    "# Tampilkan hasil\n",
    "print(\"Nilai fungsi f(x) adalah:\", nilai_fungsi)\n"
   ]
  },
  {
   "cell_type": "code",
   "execution_count": 3,
   "id": "22349103-e177-4504-ba6d-befb786b84e7",
   "metadata": {},
   "outputs": [
    {
     "name": "stdin",
     "output_type": "stream",
     "text": [
      "Masukkan gaji per jam (dalam rupiah):  10000\n",
      "Masukkan jumlah jam kerja per minggu:  48\n"
     ]
    },
    {
     "name": "stdout",
     "output_type": "stream",
     "text": [
      "1. Pendapatan Budi selama liburan musim panas sebelum melakukan pembayaran pajak: 2400000.0 rupiah\n",
      "2. Pendapatan Budi selama liburan musim panas setelah melakukan pembayaran pajak: 2064000.0 rupiah\n",
      "3. Jumlah uang yang akan Budi habiskan untuk membeli pakaian dan aksesoris: 206400.0 rupiah\n",
      "4. Jumlah uang yang akan Budi habiskan untuk membeli alat tulis: 20640.0 rupiah\n",
      "5. Jumlah uang yang akan Budi sedekahkan: 459240.0 rupiah\n",
      "6. Jumlah uang yang akan diterima anak yatim: 137772.0 rupiah\n",
      "7. Jumlah uang yang akan diterima kaum dhuafa: 321468.0 rupiah\n"
     ]
    }
   ],
   "source": [
    "def hitung_pendapatan(gaji_per_jam, jam_kerja_per_minggu):\n",
    "    # Hitung pendapatan sebelum pajak\n",
    "    pendapatan_sebelum_pajak = gaji_per_jam * jam_kerja_per_minggu * 5\n",
    "    \n",
    "    # Hitung pajak\n",
    "    pajak = 0.14 * pendapatan_sebelum_pajak\n",
    "    pendapatan_setelah_pajak = pendapatan_sebelum_pajak - pajak\n",
    "    \n",
    "    # Hitung pengeluaran untuk baju dan aksesoris\n",
    "    pengeluaran_baju = 0.10 * pendapatan_setelah_pajak\n",
    "    \n",
    "    # Hitung pengeluaran untuk alat tulis\n",
    "    pengeluaran_alat_tulis = 0.01 * pendapatan_setelah_pajak\n",
    "    \n",
    "    # Hitung jumlah uang yang akan disedekahkan\n",
    "    sisa_uang = pendapatan_setelah_pajak - pengeluaran_baju - pengeluaran_alat_tulis\n",
    "    sedekah = 0.25 * sisa_uang\n",
    "    sedekah_anak_yatim = 0.30 * sedekah\n",
    "    sedekah_dhuafa = sedekah - sedekah_anak_yatim\n",
    "    \n",
    "    return pendapatan_sebelum_pajak, pendapatan_setelah_pajak, pengeluaran_baju, pengeluaran_alat_tulis, sedekah, sedekah_anak_yatim, sedekah_dhuafa\n",
    "\n",
    "# Input gaji per jam dan jumlah jam kerja per minggu\n",
    "gaji_per_jam = float(input(\"Masukkan gaji per jam (dalam rupiah): \"))\n",
    "jam_kerja_per_minggu = int(input(\"Masukkan jumlah jam kerja per minggu: \"))\n",
    "\n",
    "# Hitung semua output\n",
    "hasil_perhitungan = hitung_pendapatan(gaji_per_jam, jam_kerja_per_minggu)\n",
    "\n",
    "# Tampilkan hasil\n",
    "print(\"1. Pendapatan Budi selama liburan musim panas sebelum melakukan pembayaran pajak:\", hasil_perhitungan[0], \"rupiah\")\n",
    "print(\"2. Pendapatan Budi selama liburan musim panas setelah melakukan pembayaran pajak:\", hasil_perhitungan[1], \"rupiah\")\n",
    "print(\"3. Jumlah uang yang akan Budi habiskan untuk membeli pakaian dan aksesoris:\", hasil_perhitungan[2], \"rupiah\")\n",
    "print(\"4. Jumlah uang yang akan Budi habiskan untuk membeli alat tulis:\", hasil_perhitungan[3], \"rupiah\")\n",
    "print(\"5. Jumlah uang yang akan Budi sedekahkan:\", hasil_perhitungan[4], \"rupiah\")\n",
    "print(\"6. Jumlah uang yang akan diterima anak yatim:\", hasil_perhitungan[5], \"rupiah\")\n",
    "print(\"7. Jumlah uang yang akan diterima kaum dhuafa:\", hasil_perhitungan[6], \"rupiah\")\n"
   ]
  },
  {
   "cell_type": "code",
   "execution_count": null,
   "id": "2e68127d-78e0-4068-b244-ad65ebbcd200",
   "metadata": {},
   "outputs": [],
   "source": []
  }
 ],
 "metadata": {
  "kernelspec": {
   "display_name": "Python 3 (ipykernel)",
   "language": "python",
   "name": "python3"
  },
  "language_info": {
   "codemirror_mode": {
    "name": "ipython",
    "version": 3
   },
   "file_extension": ".py",
   "mimetype": "text/x-python",
   "name": "python",
   "nbconvert_exporter": "python",
   "pygments_lexer": "ipython3",
   "version": "3.12.2"
  }
 },
 "nbformat": 4,
 "nbformat_minor": 5
}
