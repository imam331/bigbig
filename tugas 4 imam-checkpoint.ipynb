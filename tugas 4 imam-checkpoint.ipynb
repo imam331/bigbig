{
 "cells": [
  {
   "cell_type": "code",
   "execution_count": 1,
   "id": "88e978c1-c170-42ba-ad4d-99f2e30ded2a",
   "metadata": {},
   "outputs": [
    {
     "name": "stdout",
     "output_type": "stream",
     "text": [
      "True\n",
      "False\n",
      "True\n"
     ]
    }
   ],
   "source": [
    "def cek_angka(a, b, c):\n",
    "    # Memeriksa apakah ketiga parameter nilainya berbeda semua\n",
    "    if a == b or a == c or b == c:\n",
    "        return False\n",
    "    \n",
    "    # Memeriksa apakah ada kemungkinan jika diambil dua parameter dan dijumlahkan hasilnya sama dengan parameter lainnya\n",
    "    if a + b == c or a + c == b or b + c == a:\n",
    "        return True\n",
    "    \n",
    "    return False\n",
    "\n",
    "# Contoh penggunaan fungsi cek_angka()\n",
    "print(cek_angka(1, 2, 3))  # True, karena 1 + 2 = 3\n",
    "print(cek_angka(1, 2, 4))  # False, karena tidak ada kombinasi yang memenuhi ketentuan\n",
    "print(cek_angka(3, 6, 9))  # True, karena 3 + 6 = 9\n"
   ]
  },
  {
   "cell_type": "code",
   "execution_count": 2,
   "id": "77ffd766-f481-4b40-8888-e6c076d8dda6",
   "metadata": {},
   "outputs": [
    {
     "name": "stdin",
     "output_type": "stream",
     "text": [
      "Masukkan angka pertama:  30\n",
      "Masukkan angka kedua:  20\n",
      "Masukkan angka ketiga:  18\n"
     ]
    },
    {
     "name": "stdout",
     "output_type": "stream",
     "text": [
      "Output yang diharapkan = True\n"
     ]
    }
   ],
   "source": [
    "def cek_digit_belakang(a, b, c):\n",
    "    # Mengambil digit paling kanan dari setiap parameter\n",
    "    digit_a = a % 10\n",
    "    digit_b = b % 10\n",
    "    digit_c = c % 10\n",
    "    \n",
    "    # Memeriksa apakah minimal dua dari tiga parameter memiliki digit paling kanan yang sama\n",
    "    if digit_a == digit_b or digit_a == digit_c or digit_b == digit_c:\n",
    "        return True\n",
    "    else:\n",
    "        return False\n",
    "\n",
    "# Test-case\n",
    "input1 = int(input(\"Masukkan angka pertama: \"))\n",
    "input2 = int(input(\"Masukkan angka kedua: \"))\n",
    "input3 = int(input(\"Masukkan angka ketiga: \"))\n",
    "\n",
    "hasil = cek_digit_belakang(input1, input2, input3)\n",
    "print(\"Output yang diharapkan =\", hasil)\n"
   ]
  },
  {
   "cell_type": "code",
   "execution_count": 3,
   "id": "4095511c-754a-4e67-9ec5-50a67b342533",
   "metadata": {},
   "outputs": [
    {
     "name": "stdin",
     "output_type": "stream",
     "text": [
      "Masukkan angka pertama:  145\n",
      "Masukkan angka kedua:  5\n",
      "Masukkan angka ketiga:  100\n"
     ]
    },
    {
     "name": "stdout",
     "output_type": "stream",
     "text": [
      "Output yang diharapkan = True\n"
     ]
    }
   ],
   "source": [
    "def cek_digit_belakang(a, b, c):\n",
    "    # Mengambil digit paling kanan dari setiap parameter\n",
    "    digit_a = a % 10\n",
    "    digit_b = b % 10\n",
    "    digit_c = c % 10\n",
    "    \n",
    "    # Memeriksa apakah minimal dua dari tiga parameter memiliki digit paling kanan yang sama\n",
    "    if digit_a == digit_b or digit_a == digit_c or digit_b == digit_c:\n",
    "        return True\n",
    "    else:\n",
    "        return False\n",
    "\n",
    "# Test-case\n",
    "input1 = int(input(\"Masukkan angka pertama: \"))\n",
    "input2 = int(input(\"Masukkan angka kedua: \"))\n",
    "input3 = int(input(\"Masukkan angka ketiga: \"))\n",
    "\n",
    "hasil = cek_digit_belakang(input1, input2, input3)\n",
    "print(\"Output yang diharapkan =\", hasil)\n"
   ]
  },
  {
   "cell_type": "code",
   "execution_count": 5,
   "id": "9e645296-8804-4715-8b6f-b1096831d52f",
   "metadata": {},
   "outputs": [
    {
     "name": "stdin",
     "output_type": "stream",
     "text": [
      "Masukkan angka pertama:  71\n",
      "Masukkan angka kedua:  187\n",
      "Masukkan angka ketiga:  18\n"
     ]
    },
    {
     "name": "stdout",
     "output_type": "stream",
     "text": [
      "Output yang diharapkan = False\n"
     ]
    }
   ],
   "source": [
    "def cek_digit_belakang(a, b, c):\n",
    "    # Mengambil digit paling kanan dari setiap parameter\n",
    "    digit_a = a % 10\n",
    "    digit_b = b % 10\n",
    "    digit_c = c % 10\n",
    "    \n",
    "    # Memeriksa apakah minimal dua dari tiga parameter memiliki digit paling kanan yang sama\n",
    "    if digit_a == digit_b or digit_a == digit_c or digit_b == digit_c:\n",
    "        return True\n",
    "    else:\n",
    "        return False\n",
    "\n",
    "# Test-case\n",
    "input1 = int(input(\"Masukkan angka pertama: \"))\n",
    "input2 = int(input(\"Masukkan angka kedua: \"))\n",
    "input3 = int(input(\"Masukkan angka ketiga: \"))\n",
    "\n",
    "hasil = cek_digit_belakang(input1, input2, input3)\n",
    "print(\"Output yang diharapkan =\", hasil)\n"
   ]
  },
  {
   "cell_type": "code",
   "execution_count": 6,
   "id": "36ac76c6-69d1-4765-a760-f4e92335a47a",
   "metadata": {},
   "outputs": [
    {
     "name": "stdin",
     "output_type": "stream",
     "text": [
      "Masukkan angka pertama:  1024\n",
      "Masukkan angka kedua:  14\n",
      "Masukkan angka ketiga:  94\n"
     ]
    },
    {
     "name": "stdout",
     "output_type": "stream",
     "text": [
      "Output yang diharapkan = True\n"
     ]
    }
   ],
   "source": [
    "def cek_digit_belakang(a, b, c):\n",
    "    # Mengambil digit paling kanan dari setiap parameter\n",
    "    digit_a = a % 10\n",
    "    digit_b = b % 10\n",
    "    digit_c = c % 10\n",
    "    \n",
    "    # Memeriksa apakah minimal dua dari tiga parameter memiliki digit paling kanan yang sama\n",
    "    if digit_a == digit_b or digit_a == digit_c or digit_b == digit_c:\n",
    "        return True\n",
    "    else:\n",
    "        return False\n",
    "\n",
    "# Test-case\n",
    "input1 = int(input(\"Masukkan angka pertama: \"))\n",
    "input2 = int(input(\"Masukkan angka kedua: \"))\n",
    "input3 = int(input(\"Masukkan angka ketiga: \"))\n",
    "\n",
    "hasil = cek_digit_belakang(input1, input2, input3)\n",
    "print(\"Output yang diharapkan =\", hasil)\n"
   ]
  },
  {
   "cell_type": "code",
   "execution_count": 7,
   "id": "abff69c3-6d39-4c31-8717-db78b0129fe1",
   "metadata": {},
   "outputs": [
    {
     "name": "stdin",
     "output_type": "stream",
     "text": [
      "Masukkan angka pertama:  53\n",
      "Masukkan angka kedua:  8900\n",
      "Masukkan angka ketiga:  658\n"
     ]
    },
    {
     "name": "stdout",
     "output_type": "stream",
     "text": [
      "Output yang diharapkan = False\n"
     ]
    }
   ],
   "source": [
    "def cek_digit_belakang(a, b, c):\n",
    "    # Mengambil digit paling kanan dari setiap parameter\n",
    "    digit_a = a % 10\n",
    "    digit_b = b % 10\n",
    "    digit_c = c % 10\n",
    "    \n",
    "    # Memeriksa apakah minimal dua dari tiga parameter memiliki digit paling kanan yang sama\n",
    "    if digit_a == digit_b or digit_a == digit_c or digit_b == digit_c:\n",
    "        return True\n",
    "    else:\n",
    "        return False\n",
    "\n",
    "# Test-case\n",
    "input1 = int(input(\"Masukkan angka pertama: \"))\n",
    "input2 = int(input(\"Masukkan angka kedua: \"))\n",
    "input3 = int(input(\"Masukkan angka ketiga: \"))\n",
    "\n",
    "hasil = cek_digit_belakang(input1, input2, input3)\n",
    "print(\"Output yang diharapkan =\", hasil)\n"
   ]
  },
  {
   "cell_type": "code",
   "execution_count": 8,
   "id": "13797f31-69a4-4932-826b-399791cc60b1",
   "metadata": {},
   "outputs": [
    {
     "name": "stdin",
     "output_type": "stream",
     "text": [
      "Masukkan suhu dalam Celcius:  100\n"
     ]
    },
    {
     "name": "stdout",
     "output_type": "stream",
     "text": [
      "Output F = 212.0\n",
      "Output R = 80.0\n"
     ]
    }
   ],
   "source": [
    "# Fungsi konversi suhu Celcius ke Fahrenheit\n",
    "celcius_to_fahrenheit = lambda c: (9/5) * c + 32\n",
    "\n",
    "# Fungsi konversi suhu Celcius ke Reamur\n",
    "celcius_to_reamur = lambda c: 0.8 * c\n",
    "\n",
    "# Test-case\n",
    "input_c = float(input(\"Masukkan suhu dalam Celcius: \"))\n",
    "\n",
    "output_f = celcius_to_fahrenheit(input_c)\n",
    "output_r = celcius_to_reamur(input_c)\n",
    "\n",
    "print(\"Output F =\", output_f)\n",
    "print(\"Output R =\", output_r)\n"
   ]
  },
  {
   "cell_type": "code",
   "execution_count": 9,
   "id": "041346a9-2bf3-47ee-a19c-cf7ffb4a2918",
   "metadata": {},
   "outputs": [
    {
     "name": "stdin",
     "output_type": "stream",
     "text": [
      "Masukkan suhu dalam Celcius:  80\n"
     ]
    },
    {
     "name": "stdout",
     "output_type": "stream",
     "text": [
      "Output F = 176.0\n",
      "Output R = 64.0\n"
     ]
    }
   ],
   "source": [
    "# Fungsi konversi suhu Celcius ke Fahrenheit\n",
    "celcius_to_fahrenheit = lambda c: (9/5) * c + 32\n",
    "\n",
    "# Fungsi konversi suhu Celcius ke Reamur\n",
    "celcius_to_reamur = lambda c: 0.8 * c\n",
    "\n",
    "# Test-case\n",
    "input_c = float(input(\"Masukkan suhu dalam Celcius: \"))\n",
    "\n",
    "output_f = celcius_to_fahrenheit(input_c)\n",
    "output_r = celcius_to_reamur(input_c)\n",
    "\n",
    "print(\"Output F =\", output_f)\n",
    "print(\"Output R =\", output_r)\n"
   ]
  },
  {
   "cell_type": "code",
   "execution_count": 10,
   "id": "793311bf-b5ba-479e-867e-cdc49d8d248e",
   "metadata": {},
   "outputs": [
    {
     "name": "stdin",
     "output_type": "stream",
     "text": [
      "Masukkan suhu dalam Celcius:  0\n"
     ]
    },
    {
     "name": "stdout",
     "output_type": "stream",
     "text": [
      "Output F = 32.0\n",
      "Output R = 0.0\n"
     ]
    }
   ],
   "source": [
    "# Fungsi konversi suhu Celcius ke Fahrenheit\n",
    "celcius_to_fahrenheit = lambda c: (9/5) * c + 32\n",
    "\n",
    "# Fungsi konversi suhu Celcius ke Reamur\n",
    "celcius_to_reamur = lambda c: 0.8 * c\n",
    "\n",
    "# Test-case\n",
    "input_c = float(input(\"Masukkan suhu dalam Celcius: \"))\n",
    "\n",
    "output_f = celcius_to_fahrenheit(input_c)\n",
    "output_r = celcius_to_reamur(input_c)\n",
    "\n",
    "print(\"Output F =\", output_f)\n",
    "print(\"Output R =\", output_r)\n"
   ]
  },
  {
   "cell_type": "code",
   "execution_count": null,
   "id": "d5595610-3554-44f2-a8c6-687297f075ad",
   "metadata": {},
   "outputs": [],
   "source": []
  }
 ],
 "metadata": {
  "kernelspec": {
   "display_name": "Python 3 (ipykernel)",
   "language": "python",
   "name": "python3"
  },
  "language_info": {
   "codemirror_mode": {
    "name": "ipython",
    "version": 3
   },
   "file_extension": ".py",
   "mimetype": "text/x-python",
   "name": "python",
   "nbconvert_exporter": "python",
   "pygments_lexer": "ipython3",
   "version": "3.12.2"
  }
 },
 "nbformat": 4,
 "nbformat_minor": 5
}
