{
 "cells": [
  {
   "cell_type": "code",
   "execution_count": 1,
   "id": "77fb1640",
   "metadata": {},
   "outputs": [
    {
     "data": {
      "text/plain": [
       "2"
      ]
     },
     "execution_count": 1,
     "metadata": {},
     "output_type": "execute_result"
    }
   ],
   "source": [
    "1+1"
   ]
  },
  {
   "cell_type": "code",
   "execution_count": 2,
   "id": "0c22abfa",
   "metadata": {},
   "outputs": [
    {
     "data": {
      "text/plain": [
       "80"
      ]
     },
     "execution_count": 2,
     "metadata": {},
     "output_type": "execute_result"
    }
   ],
   "source": [
    "40*2"
   ]
  },
  {
   "cell_type": "code",
   "execution_count": 3,
   "id": "5ac66553",
   "metadata": {},
   "outputs": [
    {
     "data": {
      "text/plain": [
       "8.0"
      ]
     },
     "execution_count": 3,
     "metadata": {},
     "output_type": "execute_result"
    }
   ],
   "source": [
    "40/5"
   ]
  },
  {
   "cell_type": "code",
   "execution_count": 4,
   "id": "e7677566",
   "metadata": {},
   "outputs": [
    {
     "data": {
      "text/plain": [
       "-1"
      ]
     },
     "execution_count": 4,
     "metadata": {},
     "output_type": "execute_result"
    }
   ],
   "source": [
    "9-10"
   ]
  },
  {
   "cell_type": "code",
   "execution_count": 5,
   "id": "6b7e6a5b",
   "metadata": {},
   "outputs": [
    {
     "data": {
      "text/plain": [
       "14"
      ]
     },
     "execution_count": 5,
     "metadata": {},
     "output_type": "execute_result"
    }
   ],
   "source": [
    "2+3+4+5"
   ]
  },
  {
   "cell_type": "code",
   "execution_count": 6,
   "id": "3e5f473d",
   "metadata": {},
   "outputs": [
    {
     "data": {
      "text/plain": [
       "4294967296"
      ]
     },
     "execution_count": 6,
     "metadata": {},
     "output_type": "execute_result"
    }
   ],
   "source": [
    "2**32"
   ]
  },
  {
   "cell_type": "code",
   "execution_count": 7,
   "id": "0f7eced7",
   "metadata": {},
   "outputs": [
    {
     "data": {
      "text/plain": [
       "0"
      ]
     },
     "execution_count": 7,
     "metadata": {},
     "output_type": "execute_result"
    }
   ],
   "source": [
    "100%2"
   ]
  },
  {
   "cell_type": "code",
   "execution_count": 8,
   "id": "5039842d",
   "metadata": {},
   "outputs": [
    {
     "data": {
      "text/plain": [
       "1"
      ]
     },
     "execution_count": 8,
     "metadata": {},
     "output_type": "execute_result"
    }
   ],
   "source": [
    "100%3"
   ]
  },
  {
   "cell_type": "code",
   "execution_count": 9,
   "id": "bf6f5c3d",
   "metadata": {},
   "outputs": [
    {
     "data": {
      "text/plain": [
       "10"
      ]
     },
     "execution_count": 9,
     "metadata": {},
     "output_type": "execute_result"
    }
   ],
   "source": [
    "50//5"
   ]
  },
  {
   "cell_type": "code",
   "execution_count": 10,
   "id": "90590997",
   "metadata": {},
   "outputs": [
    {
     "data": {
      "text/plain": [
       "3.3333333333333335"
      ]
     },
     "execution_count": 10,
     "metadata": {},
     "output_type": "execute_result"
    }
   ],
   "source": [
    "10/3"
   ]
  },
  {
   "cell_type": "code",
   "execution_count": 11,
   "id": "af9f801a",
   "metadata": {
    "scrolled": true
   },
   "outputs": [
    {
     "ename": "SyntaxError",
     "evalue": "Missing parentheses in call to 'print'. Did you mean print('Hallo Imam Wicaksono')? (680143469.py, line 1)",
     "output_type": "error",
     "traceback": [
      "\u001b[1;36m  Input \u001b[1;32mIn [11]\u001b[1;36m\u001b[0m\n\u001b[1;33m    print 'Hallo Imam Wicaksono'\u001b[0m\n\u001b[1;37m          ^\u001b[0m\n\u001b[1;31mSyntaxError\u001b[0m\u001b[1;31m:\u001b[0m Missing parentheses in call to 'print'. Did you mean print('Hallo Imam Wicaksono')?\n"
     ]
    }
   ],
   "source": [
    "print 'Hallo Imam Wicaksono'"
   ]
  },
  {
   "cell_type": "code",
   "execution_count": 12,
   "id": "958a3c3b",
   "metadata": {},
   "outputs": [
    {
     "name": "stdout",
     "output_type": "stream",
     "text": [
      "Hallo Imam Wicaksono\n"
     ]
    }
   ],
   "source": [
    "print ('Hallo Imam Wicaksono')\n"
   ]
  },
  {
   "cell_type": "code",
   "execution_count": 13,
   "id": "e2889d74",
   "metadata": {},
   "outputs": [
    {
     "name": "stdout",
     "output_type": "stream",
     "text": [
      "Hallo Imam Wicaksono\n",
      "Hallo INDONESIA\n",
      "Hallo Pekalongan\n"
     ]
    }
   ],
   "source": [
    "print ('Hallo Imam Wicaksono')\n",
    "print ('Hallo INDONESIA')\n",
    "print ('Hallo Pekalongan')\n",
    "# print 'text ini tidak akan dicetak.'"
   ]
  },
  {
   "cell_type": "code",
   "execution_count": 16,
   "id": "8bea8756",
   "metadata": {},
   "outputs": [
    {
     "data": {
      "text/plain": [
       "'Ini adalah multi-line String \\nsya tambahkan single qoute \\' dan double \\nqoute \",tanpa perlu meng-scape \\\\ terlebih dahulu'"
      ]
     },
     "execution_count": 16,
     "metadata": {},
     "output_type": "execute_result"
    }
   ],
   "source": [
    "\"\"\"Ini adalah multi-line String \n",
    "sya tambahkan single qoute ' dan double \n",
    "qoute \",tanpa perlu meng-scape \\\\ terlebih dahulu\"\"\""
   ]
  },
  {
   "cell_type": "code",
   "execution_count": 17,
   "id": "b4a540cc",
   "metadata": {},
   "outputs": [
    {
     "data": {
      "text/plain": [
       "'Ini adalah multi-line String \\nsya tambahkan single qoute \\' dan double \\nqoute \",tanpa perlu meng-scape \\\\ terlebih dahulu'"
      ]
     },
     "execution_count": 17,
     "metadata": {},
     "output_type": "execute_result"
    }
   ],
   "source": [
    "'''Ini adalah multi-line String \n",
    "sya tambahkan single qoute ' dan double \n",
    "qoute \",tanpa perlu meng-scape \\\\ terlebih dahulu'''"
   ]
  },
  {
   "cell_type": "code",
   "execution_count": 26,
   "id": "9bf89802",
   "metadata": {},
   "outputs": [
    {
     "name": "stdout",
     "output_type": "stream",
     "text": [
      "ibu pergi  ke pasar\n",
      "ibu pergi  ke pasar\n",
      "jumlah total:      10.35\n",
      "jumlah total:     8.55\n"
     ]
    }
   ],
   "source": [
    "print('%s pergi  ke %s' %('ibu','pasar'))\n",
    "print('{0} pergi  ke {1}' .format('ibu','pasar'))\n",
    "print('jumlah total: %10.2f' % 10.35)\n",
    "print('jumlah total: %8.2f' % 8.55)"
   ]
  },
  {
   "cell_type": "code",
   "execution_count": 27,
   "id": "4cecbe8b",
   "metadata": {},
   "outputs": [
    {
     "name": "stdout",
     "output_type": "stream",
     "text": [
      "jumlah total 60\n",
      "ibu pergi ke kantor\n"
     ]
    }
   ],
   "source": [
    "a=10\n",
    "b=20\n",
    "c=30\n",
    "total = a+b+c\n",
    "nama= 'ibu'\n",
    "tempat= 'kantor'\n",
    "print ('jumlah total %s' % total)\n",
    "print ('%s pergi ke %s' % (nama,tempat))"
   ]
  },
  {
   "cell_type": "code",
   "execution_count": 28,
   "id": "02f0185a",
   "metadata": {},
   "outputs": [
    {
     "data": {
      "text/plain": [
       "int"
      ]
     },
     "execution_count": 28,
     "metadata": {},
     "output_type": "execute_result"
    }
   ],
   "source": [
    "type(1)"
   ]
  },
  {
   "cell_type": "code",
   "execution_count": 29,
   "id": "52923112",
   "metadata": {},
   "outputs": [
    {
     "data": {
      "text/plain": [
       "float"
      ]
     },
     "execution_count": 29,
     "metadata": {},
     "output_type": "execute_result"
    }
   ],
   "source": [
    "type(5.2)"
   ]
  },
  {
   "cell_type": "code",
   "execution_count": 30,
   "id": "d5e7bbe2",
   "metadata": {},
   "outputs": [
    {
     "data": {
      "text/plain": [
       "int"
      ]
     },
     "execution_count": 30,
     "metadata": {},
     "output_type": "execute_result"
    }
   ],
   "source": [
    "type(2**23)"
   ]
  },
  {
   "cell_type": "code",
   "execution_count": 31,
   "id": "38096bf8",
   "metadata": {},
   "outputs": [
    {
     "data": {
      "text/plain": [
       "str"
      ]
     },
     "execution_count": 31,
     "metadata": {},
     "output_type": "execute_result"
    }
   ],
   "source": [
    "type('dabjh')"
   ]
  },
  {
   "cell_type": "code",
   "execution_count": 32,
   "id": "2c3dca95",
   "metadata": {},
   "outputs": [
    {
     "data": {
      "text/plain": [
       "str"
      ]
     },
     "execution_count": 32,
     "metadata": {},
     "output_type": "execute_result"
    }
   ],
   "source": [
    "type('a')"
   ]
  },
  {
   "cell_type": "code",
   "execution_count": 41,
   "id": "71758198",
   "metadata": {},
   "outputs": [
    {
     "name": "stdout",
     "output_type": "stream",
     "text": [
      "Anda harus membayar Rp  70000.0\n"
     ]
    }
   ],
   "source": [
    "#jumllah belanja\n",
    "belanja=100000\n",
    "#besarnya diskon (dalam persen)\n",
    "diskon = 30\n",
    "#besarnya diskon\n",
    "nominaldiskon = (diskon/100)* belanja\n",
    "#hitung jumlah yang harus dibayar\n",
    "bayar = belanja - nominaldiskon\n",
    "#tampilkan hasilnya\n",
    "print('Anda harus membayar Rp ', bayar)"
   ]
  },
  {
   "cell_type": "code",
   "execution_count": 42,
   "id": "213f930e",
   "metadata": {},
   "outputs": [
    {
     "data": {
      "text/plain": [
       "59"
      ]
     },
     "execution_count": 42,
     "metadata": {},
     "output_type": "execute_result"
    }
   ],
   "source": [
    "tahun_lahir = 1965\n",
    "usia_sekarang = 2024-1965\n",
    "usia_sekarang"
   ]
  },
  {
   "cell_type": "code",
   "execution_count": 43,
   "id": "dd4bdf37",
   "metadata": {},
   "outputs": [
    {
     "data": {
      "text/plain": [
       "2045"
      ]
     },
     "execution_count": 43,
     "metadata": {},
     "output_type": "execute_result"
    }
   ],
   "source": [
    "usia_80 = 1965+80\n",
    "usia_80"
   ]
  },
  {
   "cell_type": "code",
   "execution_count": 44,
   "id": "56909ff5",
   "metadata": {},
   "outputs": [
    {
     "data": {
      "text/plain": [
       "5500000.0"
      ]
     },
     "execution_count": 44,
     "metadata": {},
     "output_type": "execute_result"
    }
   ],
   "source": [
    "saldo_awal = 5000000\n",
    "bunga_tahun_satu = 0.1 * saldo_awal\n",
    "saldo_tahun_satu = saldo_awal + bunga_tahun_satu\n",
    "saldo_tahun_satu"
   ]
  },
  {
   "cell_type": "code",
   "execution_count": 45,
   "id": "ab74a331",
   "metadata": {},
   "outputs": [
    {
     "data": {
      "text/plain": [
       "6050000.0"
      ]
     },
     "execution_count": 45,
     "metadata": {},
     "output_type": "execute_result"
    }
   ],
   "source": [
    "\n",
    "bunga_tahun_dua = 0.1 * saldo_tahun_satu\n",
    "saldo_tahun_dua = saldo_tahun_satu + bunga_tahun_dua\n",
    "saldo_tahun_dua"
   ]
  },
  {
   "cell_type": "code",
   "execution_count": 46,
   "id": "2f0c9c19",
   "metadata": {},
   "outputs": [
    {
     "data": {
      "text/plain": [
       "6655000.0"
      ]
     },
     "execution_count": 46,
     "metadata": {},
     "output_type": "execute_result"
    }
   ],
   "source": [
    "bunga_tahun_tiga = 0.1 * saldo_tahun_dua\n",
    "saldo_akhir = saldo_tahun_dua + bunga_tahun_tiga\n",
    "saldo_akhir"
   ]
  },
  {
   "cell_type": "code",
   "execution_count": 47,
   "id": "0e28be87",
   "metadata": {},
   "outputs": [
    {
     "name": "stdout",
     "output_type": "stream",
     "text": [
      "5\n",
      "6\n",
      "this is amulti-line string\n",
      "this is the second line\n"
     ]
    }
   ],
   "source": [
    "i=5\n",
    "print (i)\n",
    "i=i+1\n",
    "print(i)\n",
    "\n",
    "s='''this is amulti-line string\n",
    "this is the second line'''\n",
    "print(s)"
   ]
  },
  {
   "cell_type": "code",
   "execution_count": 48,
   "id": "c8904980",
   "metadata": {},
   "outputs": [
    {
     "name": "stdout",
     "output_type": "stream",
     "text": [
      "Tulis angka pertama: 20\n",
      "Tulis angka kedua: 50\n",
      "Hasil Penjumlahan 20 dan 50 adalah 70\n"
     ]
    }
   ],
   "source": [
    "# Memasukkan Inputan Angka\n",
    "angka1 = input('Tulis angka pertama: ')\n",
    "angka2 = input('Tulis angka kedua: ')\n",
    "# Mengkonversi Angka lalu Menjumlahkannya\n",
    "sum = int(angka1) + int(angka2)\n",
    "# Menampilkan Hasil Penjumlahan\n",
    "print('Hasil Penjumlahan {0} dan {1} adalah {2}'.format(angka1,\n",
    "angka2, sum))\n"
   ]
  },
  {
   "cell_type": "code",
   "execution_count": null,
   "id": "404699b7",
   "metadata": {},
   "outputs": [],
   "source": []
  },
  {
   "cell_type": "code",
   "execution_count": null,
   "id": "d3a95cdd",
   "metadata": {},
   "outputs": [],
   "source": []
  }
 ],
 "metadata": {
  "kernelspec": {
   "display_name": "Python 3 (ipykernel)",
   "language": "python",
   "name": "python3"
  },
  "language_info": {
   "codemirror_mode": {
    "name": "ipython",
    "version": 3
   },
   "file_extension": ".py",
   "mimetype": "text/x-python",
   "name": "python",
   "nbconvert_exporter": "python",
   "pygments_lexer": "ipython3",
   "version": "3.9.12"
  }
 },
 "nbformat": 4,
 "nbformat_minor": 5
}
