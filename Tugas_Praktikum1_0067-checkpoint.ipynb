{
 "cells": [
  {
   "cell_type": "code",
   "execution_count": 1,
   "id": "bf76cc64-3c60-4954-a08c-9e9bd90bba86",
   "metadata": {},
   "outputs": [
    {
     "data": {
      "text/plain": [
       "900"
      ]
     },
     "execution_count": 1,
     "metadata": {},
     "output_type": "execute_result"
    }
   ],
   "source": [
    "2 + 2\n",
    "50 - 5*6\n",
    "(50 - 5*6) / 4\n",
    "8 / 5 # division always returns a floating point number\n",
    "17 / 3 # classic division returns a float\n",
    "17 // 3 # floor division discards the fractional part\n",
    "17 % 3 # the % operator returns the remainder of the division\n",
    "5 * 3 + 2 # floored quotient * divisor + remainder\n",
    "5 ** 2 # 5 squared\n",
    "2 ** 7 # 2 to the power of 7\n",
    "width = 20\n",
    "height = 5 * 9\n",
    "width * height"
   ]
  },
  {
   "cell_type": "code",
   "execution_count": 2,
   "id": "8a234276-8617-47e3-b822-1d453670500c",
   "metadata": {},
   "outputs": [
    {
     "name": "stdout",
     "output_type": "stream",
     "text": [
      "5\n",
      "6\n",
      "This is a multi-line string.\n",
      "This is the second line.\n"
     ]
    }
   ],
   "source": [
    "i = 5\n",
    "print(i)\n",
    "i = i + 1\n",
    "print(i)\n",
    "s = '''This is a multi-line string.\n",
    "This is the second line.'''\n",
    "print(s)"
   ]
  },
  {
   "cell_type": "code",
   "execution_count": 3,
   "id": "181132b8-75af-4c68-953c-38a4f86c43c9",
   "metadata": {},
   "outputs": [
    {
     "name": "stdin",
     "output_type": "stream",
     "text": [
      "Tulis angka pertama:  10\n",
      "Tulis angka kedua:  20\n"
     ]
    },
    {
     "name": "stdout",
     "output_type": "stream",
     "text": [
      "Hasil Penjumlahan 10 dan 20 adalah 30\n"
     ]
    }
   ],
   "source": [
    "# Memasukkan Inputan Angka\n",
    "angka1 = input('Tulis angka pertama: ')\n",
    "angka2 = input('Tulis angka kedua: ')\n",
    "# Mengkonversi Angka lalu Menjumlahkannya\n",
    "sum = int(angka1) + int(angka2)\n",
    "# Menampilkan Hasil Penjumlahan\n",
    "print('Hasil Penjumlahan {0} dan {1} adalah {2}'.format(angka1,\n",
    "angka2, sum))"
   ]
  },
  {
   "cell_type": "code",
   "execution_count": 4,
   "id": "0c2391c8-9957-4852-8210-395ef2cfd097",
   "metadata": {},
   "outputs": [
    {
     "name": "stdout",
     "output_type": "stream",
     "text": [
      "Keuntungan awal Gerard: Rp. 875,000 (5.38%)\n",
      "Keuntungan setelah tambahan pembelian: Rp. 1,200,000 (4.52%)\n"
     ]
    }
   ],
   "source": [
    "# Harga emas awal\n",
    "harga_awal_per_gram = 650000\n",
    "jumlah_emas_awal = 25\n",
    "\n",
    "# Harga emas sekarang\n",
    "harga_sekarang_per_gram = 685000\n",
    "\n",
    "# Hitung total pembelian awal\n",
    "total_pembelian_awal = harga_awal_per_gram * jumlah_emas_awal\n",
    "\n",
    "# Hitung keuntungan dalam Rp\n",
    "keuntungan_rp = (harga_sekarang_per_gram - harga_awal_per_gram) * jumlah_emas_awal\n",
    "\n",
    "# Hitung keuntungan dalam %\n",
    "keuntungan_percent = (keuntungan_rp / total_pembelian_awal) * 100\n",
    "\n",
    "print(f\"Keuntungan awal Gerard: Rp. {keuntungan_rp:,} ({keuntungan_percent:.2f}%)\")\n",
    "\n",
    "# Pembelian tambahan\n",
    "jumlah_emas_tambahan = 15\n",
    "harga_pembelian_tambahan = 685000\n",
    "\n",
    "# Hitung total emas sekarang\n",
    "total_emas_sekarang = jumlah_emas_awal + jumlah_emas_tambahan\n",
    "\n",
    "# Hitung total pembelian setelah tambahan\n",
    "total_pembelian_tambahan = harga_pembelian_tambahan * jumlah_emas_tambahan\n",
    "\n",
    "# Hitung total harga emas sekarang\n",
    "total_harga_sekarang = total_pembelian_awal + total_pembelian_tambahan\n",
    "\n",
    "# Harga emas setelah kenaikan\n",
    "harga_naik_per_gram = 715000\n",
    "\n",
    "# Hitung keuntungan setelah kenaikan dalam Rp\n",
    "keuntungan_setelah_naik_rp = (harga_naik_per_gram - harga_sekarang_per_gram) * total_emas_sekarang\n",
    "\n",
    "# Hitung keuntungan setelah kenaikan dalam %\n",
    "keuntungan_setelah_naik_percent = (keuntungan_setelah_naik_rp / total_harga_sekarang) * 100\n",
    "\n",
    "print(f\"Keuntungan setelah tambahan pembelian: Rp. {keuntungan_setelah_naik_rp:,} ({keuntungan_setelah_naik_percent:.2f}%)\")"
   ]
  },
  {
   "cell_type": "code",
   "execution_count": 5,
   "id": "0734bdb4-0d3c-4022-8296-ee15e1299a2b",
   "metadata": {},
   "outputs": [
    {
     "name": "stdout",
     "output_type": "stream",
     "text": [
      "Waktu yang dibutuhkan untuk mencapai minimal 400 juta adalah 8 tahun.\n"
     ]
    }
   ],
   "source": [
    "def compound_interest(principal, target, rate):\n",
    "    years = 0\n",
    "    while principal < target:\n",
    "        principal *= 1 + rate\n",
    "        years += 1\n",
    "    return years\n",
    "\n",
    "initial_amount = 200_000_000  # 200 juta rupiah\n",
    "target_amount = 400_000_000  # 400 juta rupiah\n",
    "annual_interest_rate = 0.10  # 10%\n",
    "\n",
    "time_needed = compound_interest(initial_amount, target_amount, annual_interest_rate)\n",
    "\n",
    "print(f\"Waktu yang dibutuhkan untuk mencapai minimal 400 juta adalah {time_needed} tahun.\")"
   ]
  },
  {
   "cell_type": "code",
   "execution_count": 6,
   "id": "38c34fd5-274d-4091-944a-9ba49cdbb283",
   "metadata": {},
   "outputs": [
    {
     "name": "stdout",
     "output_type": "stream",
     "text": [
      "22.240.0067 IMAM WICAKSONO\n"
     ]
    }
   ],
   "source": [
    "print ('22.240.0067 IMAM WICAKSONO')"
   ]
  },
  {
   "cell_type": "code",
   "execution_count": null,
   "id": "2596761b-a9b5-4b78-958d-59e962c72ad4",
   "metadata": {},
   "outputs": [],
   "source": []
  }
 ],
 "metadata": {
  "kernelspec": {
   "display_name": "Python 3 (ipykernel)",
   "language": "python",
   "name": "python3"
  },
  "language_info": {
   "codemirror_mode": {
    "name": "ipython",
    "version": 3
   },
   "file_extension": ".py",
   "mimetype": "text/x-python",
   "name": "python",
   "nbconvert_exporter": "python",
   "pygments_lexer": "ipython3",
   "version": "3.12.2"
  }
 },
 "nbformat": 4,
 "nbformat_minor": 5
}
