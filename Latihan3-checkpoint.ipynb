{
 "cells": [
  {
   "cell_type": "code",
   "execution_count": 11,
   "id": "654b9573-9f13-4d57-8603-01c44f7d64c6",
   "metadata": {},
   "outputs": [
    {
     "name": "stdin",
     "output_type": "stream",
     "text": [
      "Masukkan suhu tubuh:  48.9\n"
     ]
    },
    {
     "name": "stdout",
     "output_type": "stream",
     "text": [
      "Masukkan harus berupa bilangan bulat.\n"
     ]
    }
   ],
   "source": [
    "try:\n",
    "    suhu = int(input(\"Masukkan suhu tubuh: \"))\n",
    "    if suhu >= 38:\n",
    "        print(\"Anda demam\")\n",
    "    else:\n",
    "        print(\"Anda tidak demam\")\n",
    "except ValueError:\n",
    "    print(\"Masukkan harus berupa bilangan bulat.\")\n"
   ]
  },
  {
   "cell_type": "code",
   "execution_count": 12,
   "id": "21c43f50-077c-49a4-b328-2512e9571ed6",
   "metadata": {},
   "outputs": [
    {
     "name": "stdin",
     "output_type": "stream",
     "text": [
      "Masukkan suatu bilangan:  -2\n"
     ]
    },
    {
     "name": "stdout",
     "output_type": "stream",
     "text": [
      "Negatif\n"
     ]
    }
   ],
   "source": [
    "try:\n",
    "    bilangan = int(input(\"Masukkan suatu bilangan: \"))\n",
    "    if bilangan > 0:\n",
    "        print(\"Positif\")\n",
    "    elif bilangan < 0:\n",
    "        print(\"Negatif\")\n",
    "    else:\n",
    "        print(\"Nol\")\n",
    "except ValueError:\n",
    "    print(\"Masukkan harus berupa bilangan bulat.\")\n"
   ]
  },
  {
   "cell_type": "code",
   "execution_count": 15,
   "id": "9a73bca7-e5cd-4c44-a6f8-726508d863f0",
   "metadata": {},
   "outputs": [
    {
     "name": "stdin",
     "output_type": "stream",
     "text": [
      "Masukkan bilangan pertama:  8\n",
      "Masukkan bilangan kedua:  5\n",
      "Masukkan bilangan ketiga:  3\n"
     ]
    },
    {
     "name": "stdout",
     "output_type": "stream",
     "text": [
      "Terbesar:  8\n"
     ]
    }
   ],
   "source": [
    "try:\n",
    "    a = int(input(\"Masukkan bilangan pertama: \"))\n",
    "    b = int(input(\"Masukkan bilangan kedua: \"))\n",
    "    c = int(input(\"Masukkan bilangan ketiga: \"))\n",
    "    if a > b and a > c:\n",
    "        print(\"Terbesar: \", a)\n",
    "    elif b > a and b > c:\n",
    "        print(\"Terbesar: \", b)\n",
    "    elif c > a and c > b:\n",
    "        print(\"Terbesar: \", c)\n",
    "except ValueError:\n",
    "    print(\"Masukkan harus berupa bilangan bulat.\")\n"
   ]
  },
  {
   "cell_type": "code",
   "execution_count": 18,
   "id": "227ef6d2-e0c2-4bf3-b3b2-a8ae54346bf7",
   "metadata": {},
   "outputs": [
    {
     "name": "stdin",
     "output_type": "stream",
     "text": [
      "Masukkan suatu bilangan:  -1\n"
     ]
    },
    {
     "name": "stdout",
     "output_type": "stream",
     "text": [
      "Negatif\n"
     ]
    }
   ],
   "source": [
    "bilangan = int(input(\"Masukkan suatu bilangan: \"))\n",
    "result = \"Positif\" if bilangan > 0 else (\"Negatif\" if bilangan < 0 else \"Nol\")\n",
    "print(result)\n"
   ]
  },
  {
   "cell_type": "code",
   "execution_count": 23,
   "id": "44c340be-8a4f-4b37-8270-dc098bf7c61d",
   "metadata": {},
   "outputs": [
    {
     "name": "stdin",
     "output_type": "stream",
     "text": [
      "Masukkan bulan (1-12):  1.1\n"
     ]
    },
    {
     "name": "stdout",
     "output_type": "stream",
     "text": [
      "Masukkan harus berupa bilangan bulat.\n"
     ]
    }
   ],
   "source": [
    "def jumlah_hari(bulan):\n",
    "    if bulan == 2:\n",
    "        return 29  # Tahun kabisat, Februari memiliki 29 hari\n",
    "    elif bulan in [4, 6, 9, 11]:\n",
    "        return 30  # Bulan April, Juni, September, dan November memiliki 30 hari\n",
    "    else:\n",
    "        return 31  # Bulan Januari, Maret, Mei, Juli, Agustus, Oktober, dan Desember memiliki 31 hari\n",
    "\n",
    "try:\n",
    "    bulan = int(input(\"Masukkan bulan (1-12): \"))\n",
    "    if bulan < 1 or bulan > 12:\n",
    "        print(\"Bulan yang dimasukkan tidak valid.\")\n",
    "    else:\n",
    "        jumlah = jumlah_hari(bulan)\n",
    "        print(\"Jumlah hari:\", jumlah)\n",
    "except ValueError:\n",
    "    print(\"Masukkan harus berupa bilangan bulat.\")\n"
   ]
  },
  {
   "cell_type": "code",
   "execution_count": 27,
   "id": "17324e67-7d87-4146-9f3b-b017af109ff3",
   "metadata": {},
   "outputs": [
    {
     "name": "stdin",
     "output_type": "stream",
     "text": [
      "Masukkan sisi 1:  a\n"
     ]
    },
    {
     "name": "stdout",
     "output_type": "stream",
     "text": [
      "Masukkan harus berupa bilangan.\n"
     ]
    }
   ],
   "source": [
    "try:\n",
    "    sisi_1 = float(input(\"Masukkan sisi 1: \"))\n",
    "    sisi_2 = float(input(\"Masukkan sisi 2: \"))\n",
    "    sisi_3 = float(input(\"Masukkan sisi 3: \"))\n",
    "\n",
    "    if sisi_1 == sisi_2 == sisi_3:\n",
    "        print(\"3 sisi sama\")\n",
    "    elif sisi_1 == sisi_2 or sisi_1 == sisi_3 or sisi_2 == sisi_3:\n",
    "        print(\"2 sisi sama\")\n",
    "    else:\n",
    "        print(\"Tidak ada yang sama\")\n",
    "except ValueError:\n",
    "    print(\"Masukkan harus berupa bilangan.\")\n"
   ]
  },
  {
   "cell_type": "code",
   "execution_count": null,
   "id": "91121c1c-1644-4495-b231-e33f35d62502",
   "metadata": {},
   "outputs": [],
   "source": []
  }
 ],
 "metadata": {
  "kernelspec": {
   "display_name": "Python 3 (ipykernel)",
   "language": "python",
   "name": "python3"
  },
  "language_info": {
   "codemirror_mode": {
    "name": "ipython",
    "version": 3
   },
   "file_extension": ".py",
   "mimetype": "text/x-python",
   "name": "python",
   "nbconvert_exporter": "python",
   "pygments_lexer": "ipython3",
   "version": "3.12.2"
  }
 },
 "nbformat": 4,
 "nbformat_minor": 5
}
