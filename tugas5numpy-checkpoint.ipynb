{
 "cells": [
  {
   "cell_type": "code",
   "execution_count": 1,
   "id": "547304a2-bda1-4523-b688-e68175d3ee28",
   "metadata": {},
   "outputs": [
    {
     "name": "stdout",
     "output_type": "stream",
     "text": [
      "Hasil perkalian Matriks A dengan Matriks B:\n",
      " [[4 4]\n",
      " [5 5]]\n",
      "\n",
      "Hasil penambahan Matriks A dengan Matriks B:\n",
      " [[3 4]\n",
      " [3 2]]\n"
     ]
    }
   ],
   "source": [
    "import numpy as np\n",
    "\n",
    "# Matriks A\n",
    "A = np.array([[1, 2],\n",
    "              [2, 1]])\n",
    "\n",
    "# Matriks B\n",
    "B = np.array([[2, 2],\n",
    "              [1, 1]])\n",
    "\n",
    "# a. Operasi perkalian Matriks A dengan Matriks B\n",
    "result_mul = np.dot(A, B)\n",
    "\n",
    "# b. Operasi penambahan Matriks A dengan Matriks B\n",
    "result_add = A + B\n",
    "\n",
    "# Cetak hasil\n",
    "print(\"Hasil perkalian Matriks A dengan Matriks B:\\n\", result_mul)\n",
    "print(\"\\nHasil penambahan Matriks A dengan Matriks B:\\n\", result_add)"
   ]
  },
  {
   "cell_type": "code",
   "execution_count": 4,
   "id": "fb36e0b0-bcf8-4b56-ad62-fb4eb838a79d",
   "metadata": {},
   "outputs": [
    {
     "name": "stdout",
     "output_type": "stream",
     "text": [
      "Mencetak Array\n",
      "\n",
      "[[64392 31655]\n",
      " [32579     0]\n",
      " [49248   462]\n",
      " [    0     0]]\n",
      "\n",
      "Mencetak Atribut array NumPy\n",
      "\n",
      "Bentuk Larik adalah: (4, 2)\n",
      "Dimensi array adalah 2\n",
      "Panjang setiap elemen array dalam byte adalah 2\n"
     ]
    }
   ],
   "source": [
    "import numpy as np\n",
    "\n",
    "# Buat array bilangan bulat 4x2\n",
    "array = np.array([[64392, 31655],\n",
    "                  [32579, 0],\n",
    "                  [49248, 462],\n",
    "                  [0, 0]], dtype=np.uint16)\n",
    "\n",
    "# Cetak array\n",
    "print(\"Mencetak Array\\n\")\n",
    "print(array)\n",
    "print()\n",
    "\n",
    "# Cetak atribut array NumPy\n",
    "print(\"Mencetak Atribut array NumPy\\n\")\n",
    "print(\"Bentuk Larik adalah:\", array.shape)\n",
    "print(\"Dimensi array adalah\", array.ndim)\n",
    "print(\"Panjang setiap elemen array dalam byte adalah\", array.itemsize)\n"
   ]
  },
  {
   "cell_type": "code",
   "execution_count": 3,
   "id": "6a842c5b-873d-4307-ab72-1fc6e07a0f8c",
   "metadata": {},
   "outputs": [
    {
     "name": "stdout",
     "output_type": "stream",
     "text": [
      "Membuat array 5X2 menggunakan numpy.arange\n",
      "\n",
      "[[100 110]\n",
      " [120 130]\n",
      " [140 150]\n",
      " [160 170]\n",
      " [180 190]]\n"
     ]
    }
   ],
   "source": [
    "import numpy as np\n",
    "\n",
    "# Buat array 5x2 dengan rentang 100 hingga 200 dan selisih 10\n",
    "array = np.arange(100, 200, 10).reshape(5, 2)\n",
    "\n",
    "# Cetak array\n",
    "print(\"Membuat array 5X2 menggunakan numpy.arange\\n\")\n",
    "print(array)\n"
   ]
  },
  {
   "cell_type": "code",
   "execution_count": null,
   "id": "c00fabcb-3250-4a9a-9148-c83ebac5c89e",
   "metadata": {},
   "outputs": [],
   "source": []
  }
 ],
 "metadata": {
  "kernelspec": {
   "display_name": "Python 3 (ipykernel)",
   "language": "python",
   "name": "python3"
  },
  "language_info": {
   "codemirror_mode": {
    "name": "ipython",
    "version": 3
   },
   "file_extension": ".py",
   "mimetype": "text/x-python",
   "name": "python",
   "nbconvert_exporter": "python",
   "pygments_lexer": "ipython3",
   "version": "3.9.12"
  }
 },
 "nbformat": 4,
 "nbformat_minor": 5
}
